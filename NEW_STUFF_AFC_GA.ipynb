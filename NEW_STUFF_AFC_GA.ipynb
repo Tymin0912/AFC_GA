{
 "cells": [
  {
   "cell_type": "code",
   "execution_count": 3,
   "metadata": {},
   "outputs": [
    {
     "name": "stdout",
     "output_type": "stream",
     "text": [
      "[[67.47289971]\n",
      " [77.8931958 ]\n",
      " [98.72805111]\n",
      " [51.56479749]\n",
      " [41.10775367]\n",
      " [68.9202619 ]\n",
      " [85.91184659]\n",
      " [93.12982251]\n",
      " [91.23338489]\n",
      " [98.84897461]]\n"
     ]
    }
   ],
   "source": [
    "import numpy as np\n",
    "\n",
    "population_size = 10\n",
    "#fitness = 5\n",
    "lower_bounds = [1, 10E5, 0.001, 0.1E-6, 10E-6, 10E-6, -1]             # Bounds on parameters\n",
    "upper_bounds = [1001, 500E6, 0.21, 5E6, 100E-6, 300E-6, 1]            # Bounds on parameters\n",
    "mutation_rate = 0.5                                                   # Probability of mutation\n",
    "mutation_range = [5, 5E5, 0.01, 1E-7, 5E-7, 5E-7, 1]                  # Range of mutation \n",
    "\n",
    "# Normal distribution instead of unifrom \n",
    "mean_amplitude = 0.15  # mean value\n",
    "std_amplitude = 0.02   # standard deviation\n",
    "amplitude = np.random.normal(mean_amplitude, std_amplitude, (population_size, 1))\n",
    "\n",
    "#fitness = max(fitness, 0)      ###\n",
    "fixed_val = [1,6]               ###\n",
    "\n",
    "no_pulses = np.linspace(1,1000, population_size).reshape((population_size, 1))\n",
    "f_0 = np.full((population_size,1),250E6)    ###\n",
    "amplitude = np.random.uniform(0.1, 0.21, (population_size, 1))\n",
    "freq_sweep = np.random.uniform(0.5E-6, 500E-6, (population_size, 1))\n",
    "\n",
    "###\n",
    "duration = np.random.uniform(10E-6, 500E-6, (population_size, 1))\n",
    "delay = np.random.uniform(50E-6, 500E-6-duration)\n",
    "###\n",
    "\n",
    "duration = np.random.uniform(10E-6, 500E-6, (population_size, 1))\n",
    "delay = np.random.uniform(50E-6, 500E-6, (population_size, 1))\n",
    "tau = np.random.uniform(0.5E-6, 500E-6, (population_size, 1))\n",
    "phase = np.zeros((population_size,1)) \n",
    "\n",
    "population = np.hstack((no_pulses, f_0, amplitude, freq_sweep, duration, delay, phase))\n",
    "\n",
    "def mutate(new_population, mutation_rate, mutation_range, fixed_val):\n",
    "    population_size = new_population.shape[0]\n",
    "    num_variables = new_population.shape[1]\n",
    "\n",
    "    mutated_population = new_population.copy()\n",
    "\n",
    "    for i in range(population_size):\n",
    "        for j in range(num_variables):\n",
    "            if j in fixed_val:      ###\n",
    "                continue            ###\n",
    "            if np.random.rand() < mutation_rate:\n",
    "                mutation_value = (np.random.rand() - 0.5) * 2 * mutation_range[j]\n",
    "                mutated_population[i, j] = mutated_population[i, j] + mutation_value\n",
    "                mutated_population[i, j] = max(lower_bounds[j], min(upper_bounds[j], mutated_population[i, j]))\n",
    "\n",
    "    return mutated_population\n",
    "\n",
    "new_population = mutate(population,mutation_rate, mutation_range, fixed_val)\n"
   ]
  }
 ],
 "metadata": {
  "kernelspec": {
   "display_name": "AFC_GA_venv",
   "language": "python",
   "name": "python3"
  },
  "language_info": {
   "codemirror_mode": {
    "name": "ipython",
    "version": 3
   },
   "file_extension": ".py",
   "mimetype": "text/x-python",
   "name": "python",
   "nbconvert_exporter": "python",
   "pygments_lexer": "ipython3",
   "version": "3.1.undefined"
  }
 },
 "nbformat": 4,
 "nbformat_minor": 2
}
