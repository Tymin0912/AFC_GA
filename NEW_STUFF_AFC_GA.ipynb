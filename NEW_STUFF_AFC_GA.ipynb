{
 "cells": [
  {
   "cell_type": "code",
   "execution_count": 15,
   "metadata": {},
   "outputs": [
    {
     "name": "stdout",
     "output_type": "stream",
     "text": [
      "[[1.00000000e+00 2.50000000e+08 1.32267525e-01 9.40956546e-05\n",
      "  1.48940691e-04 5.65895674e-05 0.00000000e+00]\n",
      " [1.12046313e+02 2.50000000e+08 1.07640037e-01 1.73395702e-04\n",
      "  1.00000000e-04 1.92017316e-04 0.00000000e+00]\n",
      " [2.23000000e+02 2.50000000e+08 1.52052603e-01 3.95282353e-04\n",
      "  1.00000000e-04 2.52112055e-04 0.00000000e+00]\n",
      " [3.34000000e+02 2.50000000e+08 1.35712585e-01 4.50103087e-05\n",
      "  1.00000000e-04 1.04871227e-04 0.00000000e+00]\n",
      " [4.45535458e+02 2.50000000e+08 1.21902624e-01 4.53633275e-04\n",
      "  7.09567674e-05 2.68048911e-04 0.00000000e+00]\n",
      " [5.56384051e+02 2.50000000e+08 1.31029202e-01 2.57080580e-04\n",
      "  1.00000000e-04 2.41978206e-04 0.00000000e+00]\n",
      " [6.67000000e+02 2.50000000e+08 2.06258039e-01 3.06028543e-04\n",
      "  4.86303515e-04 3.00000000e-04 0.00000000e+00]\n",
      " [7.78000000e+02 2.50000000e+08 1.47271466e-01 2.12791650e-04\n",
      "  3.65319920e-04 4.04357218e-04 0.00000000e+00]\n",
      " [8.89000000e+02 2.50000000e+08 1.86373826e-01 2.06728151e-04\n",
      "  8.93935874e-05 1.25648100e-04 0.00000000e+00]\n",
      " [1.00000000e+03 2.50000000e+08 1.28463918e-01 8.49908137e-05\n",
      "  1.00000000e-04 2.75209971e-04 0.00000000e+00]]\n"
     ]
    }
   ],
   "source": [
    "import numpy as np\n",
    "\n",
    "population_size = 10\n",
    "#fitness = 5\n",
    "lower_bounds = [1, 10E5, 0.001, 0.1E-6, 10E-6, 10E-6, -1]              # Bounds on parameters\n",
    "upper_bounds = [1001, 500E6, 0.21, 5E6, 100E-6, 300E-6, 1]            # Bounds on parameters\n",
    "mutation_rate = 0.5                               # Probability of mutation\n",
    "mutation_range = [1, 5E5, 0.01, 1E-7, 5E-7, 5E-7, 1]  # Range of mutation \n",
    "\n",
    "#fitness = max(fitness, 0)\n",
    "fixed_val = [1,6]\n",
    "no_pulses = np.linspace(1,1000, population_size).reshape((population_size, 1))\n",
    "f_0 = np.full((population_size,1),250E6)\n",
    "amplitude = np.random.uniform(0.1, 0.21, (population_size, 1))\n",
    "freq_sweep = np.random.uniform(0.5E-6, 500E-6, (population_size, 1))\n",
    "duration = np.random.uniform(10E-6, 500E-6, (population_size, 1))\n",
    "delay = np.random.uniform(50E-6, 500E-6, (population_size, 1))\n",
    "tau = np.random.uniform(0.5E-6, 500E-6, (population_size, 1))\n",
    "phase = np.zeros((population_size,1))\n",
    "\n",
    "population = np.hstack((no_pulses, f_0, amplitude, freq_sweep, duration, delay, phase))\n",
    "\n",
    "def mutate(new_population, mutation_rate, mutation_range, fixed_val):\n",
    "    population_size = new_population.shape[0]\n",
    "    num_variables = new_population.shape[1]\n",
    "\n",
    "    mutated_population = new_population.copy()\n",
    "\n",
    "    for i in range(population_size):\n",
    "        for j in range(num_variables):\n",
    "            if j in fixed_val:\n",
    "                continue\n",
    "            if np.random.rand() < mutation_rate:\n",
    "                mutation_value = (np.random.rand() - 0.5) * 2 * mutation_range[j]\n",
    "                mutated_population[i, j] = mutated_population[i, j] + mutation_value\n",
    "                mutated_population[i, j] = max(lower_bounds[j], min(upper_bounds[j], mutated_population[i, j]))\n",
    "\n",
    "    return mutated_population\n",
    "\n",
    "new_population = mutate(population,mutation_rate, mutation_range, fixed_val)\n",
    "print(new_population)"
   ]
  }
 ],
 "metadata": {
  "kernelspec": {
   "display_name": "AFC_GA_venv",
   "language": "python",
   "name": "python3"
  },
  "language_info": {
   "codemirror_mode": {
    "name": "ipython",
    "version": 3
   },
   "file_extension": ".py",
   "mimetype": "text/x-python",
   "name": "python",
   "nbconvert_exporter": "python",
   "pygments_lexer": "ipython3",
   "version": "3.11.9"
  }
 },
 "nbformat": 4,
 "nbformat_minor": 2
}
