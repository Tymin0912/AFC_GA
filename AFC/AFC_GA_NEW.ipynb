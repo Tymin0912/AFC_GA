{
 "cells": [
  {
   "cell_type": "code",
   "execution_count": 15,
   "metadata": {},
   "outputs": [
    {
     "name": "stdout",
     "output_type": "stream",
     "text": [
      "no_pulses     2.920000e+02\n",
      "f_0           4.595766e+07\n",
      "amplitude     1.056063e-01\n",
      "freq_sweep    2.206734e-04\n",
      "duration      4.454314e-04\n",
      "delay         3.690868e-04\n",
      "Name: 0, dtype: float64\n",
      "no_pulses     4.970000e+02\n",
      "f_0           3.665669e+08\n",
      "amplitude     2.009995e-01\n",
      "freq_sweep    2.108935e-04\n",
      "duration      1.974579e-04\n",
      "delay         4.795454e-04\n",
      "Name: 1, dtype: float64\n"
     ]
    }
   ],
   "source": [
    "import os\n",
    "import sys\n",
    "import numpy as np\n",
    "import pandas as pd\n",
    "\n",
    "# Parent directory to import the functions package\n",
    "#sys.path.append(os.path.join(os.path.dirname(__file__), '..')) # for .py\n",
    "parent_directory = os.path.abspath('..')                        #for .ipynb\n",
    "sys.path.append(parent_directory)                               # for .ipynb\n",
    "from functions import fitness, select, crossover, mutate        # Importing the functions \n",
    "\n",
    "# Defining the path to the folder containing the echo data CSV files. Used for fitness function\n",
    "#echo_data_folder = os.path.join(os.path.dirname(__file__), '..', 'echo_data') # for .py\n",
    "echo_data_folder = 'echo_data'                                                 # for .ipynb\n",
    "\n",
    "# Define parameters for GA\n",
    "population_size = 1000                             # Number of individuals in each generation\n",
    "num_parents = 500                                  # Number of parents selected to breed (50% usually good)\n",
    "num_generations = 2                              # Number of generations\n",
    "crossover_rate = 0.8                               # Probability of crossover\n",
    "mutation_rate = 0.01                               # Probability of mutation\n",
    "mutation_range = [1, 5E5, 0.01, 1E-7, 5E-7, 5E-7]  # Range of mutation \n",
    "# DO NOT CHANGE\n",
    "num_variables = 6                                                  # Number of parameters to optimize\n",
    "lower_bounds = [1, 10E5, 0.001, 0.1E-6, 10E-6, 10E-6]              # Bounds on parameters\n",
    "upper_bounds = [1001, 500E6, 0.21, 5E6, 100E-6, 300E-6]            # Bounds on parameters\n",
    "\n",
    "# Creation of population\n",
    "no_pulses = np.random.randint(1, 1001, (population_size, 1))\n",
    "f_0 = np.random.randint(10E6, 500E6, (population_size, 1))\n",
    "amplitude = np.random.uniform(0.1, 0.21, (population_size, 1))\n",
    "freq_sweep = np.random.uniform(0.5E-6, 500E-6, (population_size, 1))\n",
    "duration = np.random.uniform(10E-6, 500E-6, (population_size, 1))\n",
    "delay = np.random.uniform(50E-6, 500E-6, (population_size, 1))\n",
    "tau = np.random.uniform(0.5E-6, 500E-6, (population_size, 1))\n",
    "#phase = np.zeros(population_size,1)\n",
    "\n",
    "population = np.hstack((no_pulses, f_0, amplitude, freq_sweep, duration, delay))\n",
    "# Converting into dictionary \n",
    "param_names = ['no_pulses', 'f_0','amplitude', 'freq_sweep', 'duration', 'delay']\n",
    "population = pd.DataFrame(population, columns=param_names)\n",
    "#population = [{'no_pulses': row[0], 'f_0': row[1], 'amplitude': row[2], 'freq_sweep': row[3], 'duration': row[4], 'delay': row[5]} for row in population]\n",
    "\n",
    "for i in range(num_generations):\n",
    "    \n",
    "    AFC_params = population.iloc[i]\n",
    "    print(AFC_params)\n",
    "\n",
    "\n",
    "\n",
    "\n",
    "\n",
    "\n"
   ]
  },
  {
   "cell_type": "code",
   "execution_count": 11,
   "metadata": {},
   "outputs": [
    {
     "name": "stdout",
     "output_type": "stream",
     "text": [
      "({'no_pulses': 250, 'tau': 1e-06, 'f_0': 250000000.0, 'amplitude': 0.015, 'duration': 8e-05, 'delay': 5e-06, 'phase': 0},)\n"
     ]
    }
   ],
   "source": [
    "AFC_params = {'no_pulses': 250, \n",
    "                'tau': 1E-6,\n",
    "                'f_0': 250E6,\n",
    "                'amplitude': 0.015,\n",
    "                'duration': 80E-6,\n",
    "                'delay': 5E-6,\n",
    "                'phase': 0},\n",
    "print(AFC_params)"
   ]
  }
 ],
 "metadata": {
  "kernelspec": {
   "display_name": "base",
   "language": "python",
   "name": "python3"
  },
  "language_info": {
   "codemirror_mode": {
    "name": "ipython",
    "version": 3
   },
   "file_extension": ".py",
   "mimetype": "text/x-python",
   "name": "python",
   "nbconvert_exporter": "python",
   "pygments_lexer": "ipython3",
   "version": "3.11.9"
  }
 },
 "nbformat": 4,
 "nbformat_minor": 2
}
